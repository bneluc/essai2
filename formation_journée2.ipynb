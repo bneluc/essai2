{
 "cells": [
  {
   "cell_type": "markdown",
   "metadata": {},
   "source": [
    "##### Exercice 15\n",
    "Étant donnée une liste de nombres passée en paramètre, écrire une fonction qui revoie la liste des images des réels par la fonction *f* définie par $f(x)=cos(2x)-2sin(x)$.b "
   ]
  },
  {
   "cell_type": "code",
   "execution_count": null,
   "metadata": {},
   "outputs": [],
   "source": [
    "from math import*\n",
    "def f(x):\n",
    "    y = cos(2*x)-3*sin(x)\n",
    "    return y\n",
    "\n",
    "def tab_val(liste):\n",
    "    \n",
    "    for i in range(0,len(liste))"
   ]
  }
 ],
 "metadata": {
  "kernelspec": {
   "display_name": "Python 3",
   "language": "python",
   "name": "python3"
  },
  "language_info": {
   "codemirror_mode": {
    "name": "ipython",
    "version": 3
   },
   "file_extension": ".py",
   "mimetype": "text/x-python",
   "name": "python",
   "nbconvert_exporter": "python",
   "pygments_lexer": "ipython3",
   "version": "3.7.3"
  }
 },
 "nbformat": 4,
 "nbformat_minor": 2
}
